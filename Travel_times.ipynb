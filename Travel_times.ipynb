{
 "cells": [
  {
   "cell_type": "markdown",
   "metadata": {},
   "source": [
    "## Imports"
   ]
  },
  {
   "cell_type": "code",
   "execution_count": 1,
   "metadata": {},
   "outputs": [],
   "source": [
    "import r5py\n",
    "\n",
    "from utils import *"
   ]
  },
  {
   "cell_type": "code",
   "execution_count": 2,
   "metadata": {},
   "outputs": [
    {
     "name": "stdout",
     "output_type": "stream",
     "text": [
      "143,971 rows x 5 cols; Memory: 24.4 MiB\n"
     ]
    },
    {
     "data": {
      "text/html": [
       "<div>\n",
       "<style scoped>\n",
       "    .dataframe tbody tr th:only-of-type {\n",
       "        vertical-align: middle;\n",
       "    }\n",
       "\n",
       "    .dataframe tbody tr th {\n",
       "        vertical-align: top;\n",
       "    }\n",
       "\n",
       "    .dataframe thead th {\n",
       "        text-align: right;\n",
       "    }\n",
       "</style>\n",
       "<table border=\"1\" class=\"dataframe\">\n",
       "  <thead>\n",
       "    <tr style=\"text-align: right;\">\n",
       "      <th></th>\n",
       "      <th>geoid</th>\n",
       "      <th>level</th>\n",
       "      <th>city</th>\n",
       "      <th>x</th>\n",
       "      <th>y</th>\n",
       "    </tr>\n",
       "  </thead>\n",
       "  <tbody>\n",
       "    <tr>\n",
       "      <th></th>\n",
       "      <td>&lt;object&gt;</td>\n",
       "      <td>&lt;object&gt;</td>\n",
       "      <td>&lt;object&gt;</td>\n",
       "      <td>&lt;float32&gt;</td>\n",
       "      <td>&lt;float32&gt;</td>\n",
       "    </tr>\n",
       "    <tr>\n",
       "      <th>0</th>\n",
       "      <td>42007</td>\n",
       "      <td>county</td>\n",
       "      <td>pittsburgh</td>\n",
       "      <td>-80.349266</td>\n",
       "      <td>40.682495</td>\n",
       "    </tr>\n",
       "  </tbody>\n",
       "</table>\n",
       "</div>"
      ],
      "text/plain": [
       "      geoid     level        city          x          y\n",
       "   <object>  <object>    <object>  <float32>  <float32>\n",
       "0     42007    county  pittsburgh -80.349266  40.682495"
      ]
     },
     "metadata": {},
     "output_type": "display_data"
    }
   ],
   "source": [
    "centroids = pd.read_parquet('data/centroids.parquet').disp()"
   ]
  },
  {
   "cell_type": "code",
   "execution_count": 3,
   "metadata": {},
   "outputs": [],
   "source": [
    "r5_modes = {\n",
    "    'drive':   [r5py.TransportMode.CAR],\n",
    "    'bike' :   [r5py.TransportMode.BICYCLE],\n",
    "    'walk' :   [r5py.TransportMode.WALK],\n",
    "    'transit': [r5py.TransportMode.TRANSIT,\n",
    "                r5py.TransportMode.WALK]\n",
    "}"
   ]
  },
  {
   "cell_type": "code",
   "execution_count": 4,
   "metadata": {},
   "outputs": [],
   "source": [
    "def get_ttm(city, mode,\n",
    "            departure=dt.datetime(2023, 11, 23, 8, 30),\n",
    "            levels=('County', 'Tract', 'BG'),\n",
    "            r5_modes=r5_modes, centroids=centroids):\n",
    "    t = dt.datetime.now()\n",
    "    print(f'Getting travel times by {mode} in {city}')\n",
    "    assert mode in r5_modes, f'Incorrect mode: {mode}'\n",
    "    city = city.lower().replace(' ', '-').replace('.', '')\n",
    "    ## build the graph\n",
    "    network = r5py.TransportNetwork(\n",
    "        f'data/osm-city/{city}/{city}.osm.pbf',\n",
    "        (glob(f'data/gtfs/{city}/*.zip')\n",
    "         if mode == 'Transit' else []))\n",
    "    times = []\n",
    "    for level in levels:\n",
    "        pts = filt(centroids, city=city, level=level.lower())\n",
    "        pts = pdf2gdf(pts, 'x', 'y', CRS_DEG)\n",
    "        pts = pts.rename(columns=D(geoid='id'))[['id', 'geometry']]\n",
    "        ## compute travel times\n",
    "        computer = r5py.TravelTimeMatrixComputer(\n",
    "            network, origins=pts, destinations=pts,\n",
    "            departure=departure,\n",
    "            transport_modes=r5_modes[mode])\n",
    "        ttm = computer.compute_travel_times().dropna()\n",
    "        times.append(ttm.assign(level=level))\n",
    "    times = (pd.concat(times).reset_index(drop=1)\n",
    "             .rename(columns=D(from_id='src', to_id='trg',\n",
    "                               travel_time='time'))\n",
    "             [['level', 'src', 'trg', 'time']]\n",
    "             .astype(D(level=CAT, src=CAT, trg=CAT, time=I16)))\n",
    "    outdir = mkdir(f'data/r5/{city}')\n",
    "    outpath = outdir / '{}_{}_{}.parquet'.format(\n",
    "        city, mode, departure.strftime('%Y%m%d-%H%M%S'))\n",
    "    times.to_parquet(outpath, compression='gzip')\n",
    "    print(f'Runtime for {city} by {mode}: {dt.datetime.now() - t}')\n",
    "    return times"
   ]
  },
  {
   "cell_type": "code",
   "execution_count": null,
   "metadata": {},
   "outputs": [
    {
     "data": {
      "application/vnd.jupyter.widget-view+json": {
       "model_id": "1b8982352c2b442db25016d46aa568a3",
       "version_major": 2,
       "version_minor": 0
      },
      "text/plain": [
       "  0%|          | 0/3 [00:00<?, ?it/s]"
      ]
     },
     "metadata": {},
     "output_type": "display_data"
    },
    {
     "name": "stdout",
     "output_type": "stream",
     "text": [
      "Getting travel times by drive in jacksonville\n"
     ]
    }
   ],
   "source": [
    "for city in tqdm([\n",
    "    # 'houston',\n",
    "    'jacksonville',\n",
    "    'kansas-city',\n",
    "    'las-vegas',\n",
    "]):\n",
    "    get_ttm(city, 'drive')"
   ]
  },
  {
   "cell_type": "code",
   "execution_count": null,
   "metadata": {},
   "outputs": [],
   "source": []
  }
 ],
 "metadata": {
  "kernelspec": {
   "display_name": "r5",
   "language": "python",
   "name": "python3"
  },
  "language_info": {
   "codemirror_mode": {
    "name": "ipython",
    "version": 3
   },
   "file_extension": ".py",
   "mimetype": "text/x-python",
   "name": "python",
   "nbconvert_exporter": "python",
   "pygments_lexer": "ipython3",
   "version": "3.12.7"
  }
 },
 "nbformat": 4,
 "nbformat_minor": 2
}
