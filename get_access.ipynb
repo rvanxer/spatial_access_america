{
 "cells": [
  {
   "cell_type": "markdown",
   "metadata": {},
   "source": [
    "## Imports"
   ]
  },
  {
   "cell_type": "code",
   "execution_count": 1,
   "metadata": {},
   "outputs": [],
   "source": [
    "from utils import *"
   ]
  },
  {
   "cell_type": "markdown",
   "metadata": {},
   "source": [
    "## Zones\n",
    "Compute the centroids to be exported."
   ]
  },
  {
   "cell_type": "code",
   "execution_count": 2,
   "metadata": {},
   "outputs": [
    {
     "name": "stdout",
     "output_type": "stream",
     "text": [
      "143,971 rows x 7 cols; Memory: 10.8 MiB\n"
     ]
    },
    {
     "data": {
      "text/html": [
       "<div>\n",
       "<style scoped>\n",
       "    .dataframe tbody tr th:only-of-type {\n",
       "        vertical-align: middle;\n",
       "    }\n",
       "\n",
       "    .dataframe tbody tr th {\n",
       "        vertical-align: top;\n",
       "    }\n",
       "\n",
       "    .dataframe thead th {\n",
       "        text-align: right;\n",
       "    }\n",
       "</style>\n",
       "<table border=\"1\" class=\"dataframe\">\n",
       "  <thead>\n",
       "    <tr style=\"text-align: right;\">\n",
       "      <th></th>\n",
       "      <th>geoid</th>\n",
       "      <th>level</th>\n",
       "      <th>city</th>\n",
       "      <th>popu</th>\n",
       "      <th>labor</th>\n",
       "      <th>lon</th>\n",
       "      <th>lat</th>\n",
       "    </tr>\n",
       "  </thead>\n",
       "  <tbody>\n",
       "    <tr>\n",
       "      <th></th>\n",
       "      <td>&lt;object&gt;</td>\n",
       "      <td>&lt;category&gt;</td>\n",
       "      <td>&lt;category&gt;</td>\n",
       "      <td>&lt;int32&gt;</td>\n",
       "      <td>&lt;int32&gt;</td>\n",
       "      <td>&lt;float32&gt;</td>\n",
       "      <td>&lt;float32&gt;</td>\n",
       "    </tr>\n",
       "    <tr>\n",
       "      <th>0</th>\n",
       "      <td>42007</td>\n",
       "      <td>County</td>\n",
       "      <td>Pittsburgh</td>\n",
       "      <td>164781</td>\n",
       "      <td>84153</td>\n",
       "      <td>-80.349266</td>\n",
       "      <td>40.682495</td>\n",
       "    </tr>\n",
       "  </tbody>\n",
       "</table>\n",
       "</div>"
      ],
      "text/plain": [
       "      geoid       level        city     popu    labor        lon        lat\n",
       "   <object>  <category>  <category>  <int32>  <int32>  <float32>  <float32>\n",
       "0     42007      County  Pittsburgh   164781    84153 -80.349266  40.682495"
      ]
     },
     "metadata": {},
     "output_type": "display_data"
    }
   ],
   "source": [
    "zones = pd.read_parquet('data/zones.parquet', columns=[\n",
    "    'geoid', 'level', 'city', 'popu', 'labor'])\n",
    "centroids = pd.read_parquet('data/centroids.parquet', columns=[\n",
    "    'geoid', 'x', 'y']).rename(columns=D(x='lon', y='lat'))\n",
    "zones = zones.merge(centroids, on='geoid').disp()"
   ]
  },
  {
   "cell_type": "markdown",
   "metadata": {},
   "source": [
    "## Opportunities"
   ]
  },
  {
   "cell_type": "code",
   "execution_count": 3,
   "metadata": {},
   "outputs": [
    {
     "name": "stdout",
     "output_type": "stream",
     "text": [
      "1,595,036 rows x 4 cols; Memory: 40.2 MiB\n"
     ]
    },
    {
     "data": {
      "text/html": [
       "<div>\n",
       "<style scoped>\n",
       "    .dataframe tbody tr th:only-of-type {\n",
       "        vertical-align: middle;\n",
       "    }\n",
       "\n",
       "    .dataframe tbody tr th {\n",
       "        vertical-align: top;\n",
       "    }\n",
       "\n",
       "    .dataframe thead th {\n",
       "        text-align: right;\n",
       "    }\n",
       "</style>\n",
       "<table border=\"1\" class=\"dataframe\">\n",
       "  <thead>\n",
       "    <tr style=\"text-align: right;\">\n",
       "      <th></th>\n",
       "      <th>geoid</th>\n",
       "      <th>level</th>\n",
       "      <th>kind</th>\n",
       "      <th>opport</th>\n",
       "    </tr>\n",
       "  </thead>\n",
       "  <tbody>\n",
       "    <tr>\n",
       "      <th></th>\n",
       "      <td>&lt;category&gt;</td>\n",
       "      <td>&lt;category&gt;</td>\n",
       "      <td>&lt;category&gt;</td>\n",
       "      <td>&lt;int32&gt;</td>\n",
       "    </tr>\n",
       "    <tr>\n",
       "      <th>0</th>\n",
       "      <td>040019426001</td>\n",
       "      <td>BG</td>\n",
       "      <td>Jobs: All</td>\n",
       "      <td>4</td>\n",
       "    </tr>\n",
       "  </tbody>\n",
       "</table>\n",
       "</div>"
      ],
      "text/plain": [
       "          geoid       level        kind   opport\n",
       "     <category>  <category>  <category>  <int32>\n",
       "0  040019426001          BG   Jobs: All        4"
      ]
     },
     "metadata": {},
     "output_type": "display_data"
    }
   ],
   "source": [
    "opport = pd.read_parquet('data/opportunities.parquet').disp()"
   ]
  },
  {
   "cell_type": "markdown",
   "metadata": {},
   "source": [
    "## Impedance weights\n",
    "The impedance function used in this study is the power exponential: $f(x)=\\exp({\\alpha x^\\beta})$. The parameters $\\alpha$ and $\\beta$ were determined from the NHTS data (as part of the impedance paper under review in JTRG). These are carried over directly here:"
   ]
  },
  {
   "cell_type": "code",
   "execution_count": 4,
   "metadata": {},
   "outputs": [
    {
     "name": "stdout",
     "output_type": "stream",
     "text": [
      "8 rows x 4 cols; Memory: 0.0 MiB\n"
     ]
    },
    {
     "data": {
      "text/html": [
       "<div>\n",
       "<style scoped>\n",
       "    .dataframe tbody tr th:only-of-type {\n",
       "        vertical-align: middle;\n",
       "    }\n",
       "\n",
       "    .dataframe tbody tr th {\n",
       "        vertical-align: top;\n",
       "    }\n",
       "\n",
       "    .dataframe thead th {\n",
       "        text-align: right;\n",
       "    }\n",
       "</style>\n",
       "<table border=\"1\" class=\"dataframe\">\n",
       "  <thead>\n",
       "    <tr style=\"text-align: right;\">\n",
       "      <th></th>\n",
       "      <th>mode</th>\n",
       "      <th>purpose</th>\n",
       "      <th>α</th>\n",
       "      <th>β</th>\n",
       "    </tr>\n",
       "  </thead>\n",
       "  <tbody>\n",
       "    <tr>\n",
       "      <th></th>\n",
       "      <td>&lt;object&gt;</td>\n",
       "      <td>&lt;object&gt;</td>\n",
       "      <td>&lt;float64&gt;</td>\n",
       "      <td>&lt;float64&gt;</td>\n",
       "    </tr>\n",
       "    <tr>\n",
       "      <th>0</th>\n",
       "      <td>Drive</td>\n",
       "      <td>Jobs</td>\n",
       "      <td>-0.007127</td>\n",
       "      <td>1.501453</td>\n",
       "    </tr>\n",
       "  </tbody>\n",
       "</table>\n",
       "</div>"
      ],
      "text/plain": [
       "       mode   purpose          α          β\n",
       "   <object>  <object>  <float64>  <float64>\n",
       "0     Drive      Jobs  -0.007127   1.501453"
      ]
     },
     "metadata": {},
     "output_type": "display_data"
    }
   ],
   "source": [
    "imped_params = Pdf([\n",
    "    ('Drive',   'Jobs', -0.007127, 1.501453),\n",
    "    ('Drive',   'POIs', -0.020097, 1.361630),\n",
    "    ('Transit', 'Jobs', -0.000166, 2.096192),\n",
    "    ('Transit', 'POIs', -0.002062, 1.608027),\n",
    "    ('Walk',    'Jobs', -0.053588, 1.085346),\n",
    "    ('Walk',    'POIs', -0.058269, 1.007449),\n",
    "    ('Bike',    'Jobs', -0.007653, 1.591415),\n",
    "    ('Bike',    'POIs', -0.028080, 1.145222),\n",
    "], columns=['mode', 'purpose', 'α', 'β']).disp()"
   ]
  },
  {
   "cell_type": "markdown",
   "metadata": {},
   "source": [
    "## Travel times\n",
    "The travel time tables are too large to fit in memory for all cities at once. So, it's better to compute access for each city separately by obtaining travel times separately."
   ]
  },
  {
   "cell_type": "code",
   "execution_count": 5,
   "metadata": {},
   "outputs": [
    {
     "name": "stdout",
     "output_type": "stream",
     "text": [
      "2,537,638 rows x 5 cols; Memory: 24.5 MiB\n"
     ]
    },
    {
     "data": {
      "text/html": [
       "<div>\n",
       "<style scoped>\n",
       "    .dataframe tbody tr th:only-of-type {\n",
       "        vertical-align: middle;\n",
       "    }\n",
       "\n",
       "    .dataframe tbody tr th {\n",
       "        vertical-align: top;\n",
       "    }\n",
       "\n",
       "    .dataframe thead th {\n",
       "        text-align: right;\n",
       "    }\n",
       "</style>\n",
       "<table border=\"1\" class=\"dataframe\">\n",
       "  <thead>\n",
       "    <tr style=\"text-align: right;\">\n",
       "      <th></th>\n",
       "      <th>level</th>\n",
       "      <th>mode</th>\n",
       "      <th>src</th>\n",
       "      <th>trg</th>\n",
       "      <th>time</th>\n",
       "    </tr>\n",
       "  </thead>\n",
       "  <tbody>\n",
       "    <tr>\n",
       "      <th></th>\n",
       "      <td>&lt;category&gt;</td>\n",
       "      <td>&lt;category&gt;</td>\n",
       "      <td>&lt;category&gt;</td>\n",
       "      <td>&lt;category&gt;</td>\n",
       "      <td>&lt;float32&gt;</td>\n",
       "    </tr>\n",
       "    <tr>\n",
       "      <th>0</th>\n",
       "      <td>BG</td>\n",
       "      <td>Bike</td>\n",
       "      <td>480219501011</td>\n",
       "      <td>480219501011</td>\n",
       "      <td>0.0</td>\n",
       "    </tr>\n",
       "  </tbody>\n",
       "</table>\n",
       "</div>"
      ],
      "text/plain": [
       "        level        mode           src           trg       time\n",
       "   <category>  <category>    <category>    <category>  <float32>\n",
       "0          BG        Bike  480219501011  480219501011        0.0"
      ]
     },
     "metadata": {},
     "output_type": "display_data"
    }
   ],
   "source": [
    "def get_times(city):\n",
    "    city = city.lower().replace('.', '').replace(' ', '-')\n",
    "    times = []\n",
    "    for f in Path(f'data/ttm/{city}').glob(f'*_bg.parquet'):\n",
    "        mode = f.stem.split('_')[1].title()\n",
    "        df = pd.read_parquet(f, columns=['src', 'trg', 'time'])\n",
    "        df.time /= 60 # convert time from seconds to minutes\n",
    "        times.append(df.assign(mode=mode, level='BG'))\n",
    "        for level, nchar in [('Tract', 11), ('County', 5)]:\n",
    "            df.src, df.trg = df.src.str[:nchar], df.trg.str[:nchar]\n",
    "            df2 = df.groupby(['src', 'trg']).time.agg('median').reset_index()\n",
    "            times.append(df2.assign(mode=mode, level=level))\n",
    "    times = pd.concat(times).reset_index(drop=1)\n",
    "    cols = D(level=CAT, mode=CAT, src=CAT, trg=CAT, time=F32)\n",
    "    times = times[list(cols)].astype(cols)\n",
    "    return times\n",
    "\n",
    "tt = get_times('austin').disp()"
   ]
  },
  {
   "cell_type": "markdown",
   "metadata": {},
   "source": [
    "## Compute access\n",
    "<!-- - Impedance weight: $$ w_{i,j}^{k,m} = f_{k,m}(t_{m,i,j}) = t_{m,i,j}^{\\alpha_{k,m}} e^{\\beta_{k,m} t_{m,i,j}} $$ -->\n",
    "- Impedance weight: $$ w_{i,j}^{k,m} = f_{k,m}(t_{m,i,j}) = \\exp\\left(\\alpha_{k,m}\\cdot t_{m,i,j}^{\\beta_{k,m}}\\right) $$\n",
    "- **Contour** (cumulative opportunities): $$ A_i^{k,m,t} = \\sum_{j\\in C_i(t)} o_j^k $$\n",
    "- **Gravity**: $$ A_i^{k,m,t} = \\sum_{j\\in C_i(t)} o_j^k\\cdot w_{i,j}^{k,m} $$\n",
    "- **E2SFCA** (Enhanced 2-Step Floating Catchment Area): $$ A_i^{k,m,t} = \\sum_{j\\in C_i(t)} \\frac{o_j^k}{\\sum_{l\\in C_j(t)} p_j^k\\cdot w_{l,j}^{k,m}} $$\n",
    "- **M2SFCA** (Modified 2-Step Floating Catchment Area): $$ A_i^{k,m,t} = \\sum_{j\\in C_i(t)} \\frac{o_j^k\\cdot w_{i,j}^{k,m}}{\\sum_{l\\in C_j(t)} p_j^k\\cdot w_{l,j}^{k,m}} $$\n",
    "- **XMFCA** (Multi-Modal Floating Catchment Area): $$ A_i^{k,m,t} = \\sum_{j\\in C_i(t)} \\frac{o_j^k\\cdot w_{i,j}^{k,m}}{\\sum_{l\\in C_j(t)} p_j^k\\cdot \\max_m (w_{l,j}^{k,m})} $$"
   ]
  },
  {
   "cell_type": "code",
   "execution_count": 6,
   "metadata": {},
   "outputs": [],
   "source": [
    "thresholds = (15, 30, 45, 60, 90) # travel time thresholds (minutes)"
   ]
  },
  {
   "cell_type": "code",
   "execution_count": 7,
   "metadata": {},
   "outputs": [],
   "source": [
    "def get_access(city, times=None, zones=zones, opport=opport,\n",
    "               params=imped_params, thresholds=thresholds):\n",
    "    od = times.copy() if isinstance(times, Pdf) else get_times(city)\n",
    "    opport = (opport.rename(columns=D(geoid='trg'))\n",
    "              .drop(columns='level').astype(D(trg=od.trg.dtype)))\n",
    "    opport['purpose'] = opport.kind.str.split(':').str[0].astype(CAT)\n",
    "    od = od.merge(opport, on='trg')\n",
    "    params = params.astype(D(α=F32, β=F32, mode=od['mode'].dtype,\n",
    "                             purpose=od.purpose.dtype))\n",
    "    od = od.merge(params, on=['mode', 'purpose'])\n",
    "    zones = (filt(zones, city=city).drop(columns='level')\n",
    "             .rename(columns=D(geoid='src')).astype(D(src=od.src.dtype)))\n",
    "    od = od.merge(zones, on='src')\n",
    "    iswork = (od.pop('purpose') == 'Jobs').astype(F32)\n",
    "    od.popu = (iswork * od.pop('labor') + (1 - iswork) * od.popu).astype(F32)\n",
    "    od['weight'] = np.exp(od.pop('α') * od['time'] ** od.pop('β'))\n",
    "    od['demand'] = (od.popu * od.weight).astype(F32)\n",
    "    od['supply'] = (od.opport * od.weight).astype(F32)\n",
    "    wmax = (od.groupby(['src', 'trg'], observed=1)\n",
    "            .weight.max().fillna(0).rename('max_wt'))\n",
    "    od = od.merge(wmax, on=['src', 'trg'])\n",
    "    access = []\n",
    "    for thresh in thresholds:\n",
    "        df = od[od.time <= thresh].copy()\n",
    "        df['max_demand'] = (df.popu * df.max_wt).astype(F32)\n",
    "        grp_cols = ['trg', 'level', 'kind', 'mode']\n",
    "        demand = (df.groupby(grp_cols, observed=1)\n",
    "                  [['demand', 'max_demand']].sum().astype(F32).reset_index()\n",
    "                  .astype({x: df[x].dtype for x in grp_cols}))\n",
    "        df = df.drop(columns=['demand', 'max_demand'])\n",
    "        df = df.merge(demand, on=grp_cols)\n",
    "        df['E2SFCA'] = df.opport / df.demand\n",
    "        df['M2SFCA'] = df.supply / df.demand\n",
    "        df['XMFCA'] = df.supply / df.max_demand\n",
    "        df = (df.groupby(['src', 'level', 'kind', 'mode'], observed=1)\n",
    "              [['opport', 'supply', 'E2SFCA', 'M2SFCA', 'XMFCA']]\n",
    "              .sum().astype(F32).reset_index().rename(columns=D(\n",
    "                  src='geoid', opport='Contour', supply='Gravity')))\n",
    "        df = df.melt(['geoid', 'level', 'kind', 'mode'],\n",
    "                     var_name='measure', value_name='access')\n",
    "        df = df[(df.access > 0) & (df.access != np.inf)]\n",
    "        access.append(df.assign(thresh=str(thresh)))\n",
    "    cols = D(measure=CAT, kind=CAT, mode=CAT, thresh=CAT, \n",
    "             level=CAT, geoid=CAT, access=F32)\n",
    "    access = pd.concat(access).reset_index(drop=1).astype(cols)[list(cols)]\n",
    "    return access\n",
    "\n",
    "# xs = get_access('Buffalo').disp() # 25s"
   ]
  },
  {
   "cell_type": "code",
   "execution_count": 8,
   "metadata": {},
   "outputs": [],
   "source": [
    "def compute_access(city, overwrite=True):\n",
    "    fname = city.lower().replace(' ', '-').replace('.', '')\n",
    "    outpath = Path(f'data/access/{fname}.parquet')\n",
    "    if outpath.exists() and not overwrite:\n",
    "        return pd.read_parquet(outpath)\n",
    "    t = dt.datetime.now()\n",
    "    print('Starting:', city)\n",
    "    xs = get_access(city)\n",
    "    print(f'Done: {city} ({dt.datetime.now() - t})')\n",
    "    return xs\n",
    "\n",
    "cities = sorted(list({f.split('_')[0] for f in os.listdir('data/ttm')}))\n",
    "# %time pqdm(cities, compute_access, n_jobs=10); # 28m59s\n",
    "# %time compute_access('chicago') # 13m34s\n",
    "# %time compute_access('los-angeles') # 28m53s\n",
    "# %time compute_access('new-york') # 1h12m21s (2 batches)"
   ]
  },
  {
   "cell_type": "markdown",
   "metadata": {},
   "source": [
    "## Export data\n",
    "Convert the access data for each city and level into wide format to save space in CSV format. This involves converting all combinations of (metric, opportunity kind, mode, threshold) into one column each so that each row denotes a unique zone."
   ]
  },
  {
   "cell_type": "code",
   "execution_count": 9,
   "metadata": {},
   "outputs": [
    {
     "name": "stdout",
     "output_type": "stream",
     "text": [
      "675 rows x 5 cols; Memory: 0.2 MiB\n"
     ]
    },
    {
     "data": {
      "text/html": [
       "<div>\n",
       "<style scoped>\n",
       "    .dataframe tbody tr th:only-of-type {\n",
       "        vertical-align: middle;\n",
       "    }\n",
       "\n",
       "    .dataframe tbody tr th {\n",
       "        vertical-align: top;\n",
       "    }\n",
       "\n",
       "    .dataframe thead th {\n",
       "        text-align: right;\n",
       "    }\n",
       "</style>\n",
       "<table border=\"1\" class=\"dataframe\">\n",
       "  <thead>\n",
       "    <tr style=\"text-align: right;\">\n",
       "      <th></th>\n",
       "      <th>field</th>\n",
       "      <th>measure</th>\n",
       "      <th>kind</th>\n",
       "      <th>mode</th>\n",
       "      <th>thresh</th>\n",
       "    </tr>\n",
       "  </thead>\n",
       "  <tbody>\n",
       "    <tr>\n",
       "      <th></th>\n",
       "      <td>&lt;object&gt;</td>\n",
       "      <td>&lt;object&gt;</td>\n",
       "      <td>&lt;object&gt;</td>\n",
       "      <td>&lt;object&gt;</td>\n",
       "      <td>&lt;object&gt;</td>\n",
       "    </tr>\n",
       "    <tr>\n",
       "      <th>0</th>\n",
       "      <td>Co_jobTot_Dr_15</td>\n",
       "      <td>Contour</td>\n",
       "      <td>Jobs: All</td>\n",
       "      <td>Drive</td>\n",
       "      <td>15</td>\n",
       "    </tr>\n",
       "    <tr>\n",
       "      <th>1</th>\n",
       "      <td>Co_jobTot_Dr_30</td>\n",
       "      <td>Contour</td>\n",
       "      <td>Jobs: All</td>\n",
       "      <td>Drive</td>\n",
       "      <td>30</td>\n",
       "    </tr>\n",
       "    <tr>\n",
       "      <th>2</th>\n",
       "      <td>Co_jobTot_Dr_45</td>\n",
       "      <td>Contour</td>\n",
       "      <td>Jobs: All</td>\n",
       "      <td>Drive</td>\n",
       "      <td>45</td>\n",
       "    </tr>\n",
       "    <tr>\n",
       "      <th>3</th>\n",
       "      <td>Co_jobTot_Dr_60</td>\n",
       "      <td>Contour</td>\n",
       "      <td>Jobs: All</td>\n",
       "      <td>Drive</td>\n",
       "      <td>60</td>\n",
       "    </tr>\n",
       "    <tr>\n",
       "      <th>...</th>\n",
       "      <td>...</td>\n",
       "      <td>...</td>\n",
       "      <td>...</td>\n",
       "      <td>...</td>\n",
       "      <td>...</td>\n",
       "    </tr>\n",
       "    <tr>\n",
       "      <th>670</th>\n",
       "      <td>XM_poiSoc_Wa_15</td>\n",
       "      <td>XMFCA</td>\n",
       "      <td>POIs: Social Support</td>\n",
       "      <td>Walk</td>\n",
       "      <td>15</td>\n",
       "    </tr>\n",
       "    <tr>\n",
       "      <th>671</th>\n",
       "      <td>XM_poiSoc_Wa_30</td>\n",
       "      <td>XMFCA</td>\n",
       "      <td>POIs: Social Support</td>\n",
       "      <td>Walk</td>\n",
       "      <td>30</td>\n",
       "    </tr>\n",
       "    <tr>\n",
       "      <th>672</th>\n",
       "      <td>XM_poiSoc_Wa_45</td>\n",
       "      <td>XMFCA</td>\n",
       "      <td>POIs: Social Support</td>\n",
       "      <td>Walk</td>\n",
       "      <td>45</td>\n",
       "    </tr>\n",
       "    <tr>\n",
       "      <th>673</th>\n",
       "      <td>XM_poiSoc_Wa_60</td>\n",
       "      <td>XMFCA</td>\n",
       "      <td>POIs: Social Support</td>\n",
       "      <td>Walk</td>\n",
       "      <td>60</td>\n",
       "    </tr>\n",
       "    <tr>\n",
       "      <th>674</th>\n",
       "      <td>XM_poiSoc_Wa_90</td>\n",
       "      <td>XMFCA</td>\n",
       "      <td>POIs: Social Support</td>\n",
       "      <td>Walk</td>\n",
       "      <td>90</td>\n",
       "    </tr>\n",
       "  </tbody>\n",
       "</table>\n",
       "<p>676 rows × 5 columns</p>\n",
       "</div>"
      ],
      "text/plain": [
       "               field   measure                  kind      mode    thresh\n",
       "            <object>  <object>              <object>  <object>  <object>\n",
       "0    Co_jobTot_Dr_15   Contour             Jobs: All     Drive        15\n",
       "1    Co_jobTot_Dr_30   Contour             Jobs: All     Drive        30\n",
       "2    Co_jobTot_Dr_45   Contour             Jobs: All     Drive        45\n",
       "3    Co_jobTot_Dr_60   Contour             Jobs: All     Drive        60\n",
       "..               ...       ...                   ...       ...       ...\n",
       "670  XM_poiSoc_Wa_15     XMFCA  POIs: Social Support      Walk        15\n",
       "671  XM_poiSoc_Wa_30     XMFCA  POIs: Social Support      Walk        30\n",
       "672  XM_poiSoc_Wa_45     XMFCA  POIs: Social Support      Walk        45\n",
       "673  XM_poiSoc_Wa_60     XMFCA  POIs: Social Support      Walk        60\n",
       "674  XM_poiSoc_Wa_90     XMFCA  POIs: Social Support      Walk        90\n",
       "\n",
       "[676 rows x 5 columns]"
      ]
     },
     "metadata": {},
     "output_type": "display_data"
    }
   ],
   "source": [
    "measures = D(Contour='Co', Gravity='Gr', E2SFCA='E2', M2SFCA='M2', XMFCA='XM')\n",
    "modes = D(Drive='Dr', Bike='Bi', Walk='Wa')\n",
    "kinds = {\n",
    "    'Jobs: All':            'jobTot',\n",
    "    'Jobs: Low edu':        'jobEdu',\n",
    "    'Jobs: Low wage':       'jobWag',\n",
    "    'Jobs: POC':            'jobPOC',\n",
    "    'POIs: Total':          'poiTot',\n",
    "    'POIs: Education':      'poiEdu',\n",
    "    'POIs: Groceries':      'poiGro',\n",
    "    'POIs: Medical':        'poiMed',\n",
    "    'POIs: Social Support': 'poiSoc',    \n",
    "}\n",
    "fields = Pdf(list(it.product(\n",
    "    measures, kinds, modes, [str(t) for t in thresholds]\n",
    ")), columns=['measure', 'kind', 'mode', 'thresh'])\n",
    "fields.insert(0, 'field', fields.measure.map(measures) + '_' +\n",
    "              fields.kind.map(kinds) + '_' +\n",
    "              fields['mode'].map(modes) + '_' + fields.thresh)\n",
    "fields.disp(None).to_csv('data/access_columns.csv', index=False)"
   ]
  },
  {
   "cell_type": "code",
   "execution_count": 10,
   "metadata": {},
   "outputs": [],
   "source": [
    "# # total 4m14s\n",
    "# pbar = tqdm(os.listdir('data/access'))\n",
    "# for file in pbar:\n",
    "#     city = file.removesuffix('.parquet')\n",
    "#     pbar.set_description(city)\n",
    "#     xs = pd.read_parquet('data/access/' + file)\n",
    "#     xs = xs[xs.measure != '2SFCA']\n",
    "#     xs.rename(columns=D(scale='level'), errors='ignore', inplace=1)\n",
    "#     for level, df in xs.groupby('level', observed=1):\n",
    "#         df = df.merge(fields, on=['measure', 'kind', 'mode', 'thresh'])\n",
    "#         df = (df.pivot_table('access', 'geoid', 'field', observed=0)\n",
    "#               .fillna(0).astype(F32))\n",
    "#         df = zones[['geoid', 'lon', 'lat']].merge(df, on='geoid')\n",
    "#         outdir = mkdir(f'data/export/{city}')\n",
    "#         df.to_csv(outdir / f'{city}_{level.lower()}.csv', index=False)"
   ]
  },
  {
   "cell_type": "code",
   "execution_count": null,
   "metadata": {},
   "outputs": [],
   "source": []
  }
 ],
 "metadata": {
  "kernelspec": {
   "display_name": "mk11",
   "language": "python",
   "name": "python3"
  },
  "language_info": {
   "codemirror_mode": {
    "name": "ipython",
    "version": 3
   },
   "file_extension": ".py",
   "mimetype": "text/x-python",
   "name": "python",
   "nbconvert_exporter": "python",
   "pygments_lexer": "ipython3",
   "version": "3.12.7"
  }
 },
 "nbformat": 4,
 "nbformat_minor": 2
}
