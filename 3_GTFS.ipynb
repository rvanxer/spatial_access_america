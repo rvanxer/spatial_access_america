{
 "cells": [
  {
   "cell_type": "markdown",
   "metadata": {},
   "source": [
    "# Setup"
   ]
  },
  {
   "cell_type": "code",
   "execution_count": 1,
   "metadata": {},
   "outputs": [],
   "source": [
    "from shapely.geometry import box\n",
    "\n",
    "from utils import *"
   ]
  },
  {
   "cell_type": "markdown",
   "metadata": {},
   "source": [
    "# GTFS\n",
    "Prepare Google Transit Feed Specification (GTFS) data for all the target cities (USA top 50)."
   ]
  },
  {
   "cell_type": "markdown",
   "metadata": {},
   "source": [
    "## Get the download links\n",
    "Download a spreadsheet from https://bit.ly/catalogs-csv on the [mobilitydatabase.org](https://mobilitydatabase.org) website. Then, download all the GTFS feeds which have a direct download URL packaged as a zip file for easy and standardized download."
   ]
  },
  {
   "cell_type": "code",
   "execution_count": 2,
   "metadata": {},
   "outputs": [
    {
     "name": "stdout",
     "output_type": "stream",
     "text": [
      "704 rows x 25 cols; Memory: 0.7 MiB\n"
     ]
    },
    {
     "data": {
      "text/html": [
       "<div>\n",
       "<style scoped>\n",
       "    .dataframe tbody tr th:only-of-type {\n",
       "        vertical-align: middle;\n",
       "    }\n",
       "\n",
       "    .dataframe tbody tr th {\n",
       "        vertical-align: top;\n",
       "    }\n",
       "\n",
       "    .dataframe thead th {\n",
       "        text-align: right;\n",
       "    }\n",
       "</style>\n",
       "<table border=\"1\" class=\"dataframe\">\n",
       "  <thead>\n",
       "    <tr style=\"text-align: right;\">\n",
       "      <th></th>\n",
       "      <th>data_type</th>\n",
       "      <th>entity_type</th>\n",
       "      <th>country_code</th>\n",
       "      <th>subdivision_name</th>\n",
       "      <th>municipality</th>\n",
       "      <th>provider</th>\n",
       "      <th>name</th>\n",
       "      <th>note</th>\n",
       "      <th>feed_contact_email</th>\n",
       "      <th>static_reference</th>\n",
       "      <th>...</th>\n",
       "      <th>urls.license</th>\n",
       "      <th>bounding_box.minimum_latitude</th>\n",
       "      <th>bounding_box.maximum_latitude</th>\n",
       "      <th>bounding_box.minimum_longitude</th>\n",
       "      <th>bounding_box.maximum_longitude</th>\n",
       "      <th>bounding_box.extracted_on</th>\n",
       "      <th>status</th>\n",
       "      <th>features</th>\n",
       "      <th>redirect.id</th>\n",
       "      <th>redirect.comment</th>\n",
       "    </tr>\n",
       "  </thead>\n",
       "  <tbody>\n",
       "    <tr>\n",
       "      <th>mdb_id</th>\n",
       "      <td>&lt;object&gt;</td>\n",
       "      <td>&lt;object&gt;</td>\n",
       "      <td>&lt;object&gt;</td>\n",
       "      <td>&lt;object&gt;</td>\n",
       "      <td>&lt;object&gt;</td>\n",
       "      <td>&lt;object&gt;</td>\n",
       "      <td>&lt;object&gt;</td>\n",
       "      <td>&lt;object&gt;</td>\n",
       "      <td>&lt;object&gt;</td>\n",
       "      <td>&lt;float64&gt;</td>\n",
       "      <td>...</td>\n",
       "      <td>&lt;object&gt;</td>\n",
       "      <td>&lt;float64&gt;</td>\n",
       "      <td>&lt;float64&gt;</td>\n",
       "      <td>&lt;float64&gt;</td>\n",
       "      <td>&lt;float64&gt;</td>\n",
       "      <td>&lt;object&gt;</td>\n",
       "      <td>&lt;object&gt;</td>\n",
       "      <td>&lt;object&gt;</td>\n",
       "      <td>&lt;object&gt;</td>\n",
       "      <td>&lt;object&gt;</td>\n",
       "    </tr>\n",
       "    <tr>\n",
       "      <th>5</th>\n",
       "      <td>gtfs</td>\n",
       "      <td>NaN</td>\n",
       "      <td>US</td>\n",
       "      <td>New York</td>\n",
       "      <td>Canton</td>\n",
       "      <td>St Lawrence County Public Transit</td>\n",
       "      <td>NaN</td>\n",
       "      <td>NaN</td>\n",
       "      <td>NaN</td>\n",
       "      <td>NaN</td>\n",
       "      <td>...</td>\n",
       "      <td>https://data.ny.gov/download/77gx-ii52/applica...</td>\n",
       "      <td>44.148476</td>\n",
       "      <td>44.979369</td>\n",
       "      <td>-75.75695</td>\n",
       "      <td>-74.611761</td>\n",
       "      <td>2022-03-14T20:02:31+00:00</td>\n",
       "      <td>NaN</td>\n",
       "      <td>NaN</td>\n",
       "      <td>NaN</td>\n",
       "      <td>NaN</td>\n",
       "    </tr>\n",
       "  </tbody>\n",
       "</table>\n",
       "<p>2 rows × 25 columns</p>\n",
       "</div>"
      ],
      "text/plain": [
       "       data_type entity_type country_code subdivision_name municipality  \\\n",
       "mdb_id  <object>    <object>     <object>         <object>     <object>   \n",
       "5           gtfs         NaN           US         New York       Canton   \n",
       "\n",
       "                                 provider      name      note  \\\n",
       "mdb_id                           <object>  <object>  <object>   \n",
       "5       St Lawrence County Public Transit       NaN       NaN   \n",
       "\n",
       "       feed_contact_email static_reference  ...  \\\n",
       "mdb_id           <object>        <float64>  ...   \n",
       "5                     NaN              NaN  ...   \n",
       "\n",
       "                                             urls.license  \\\n",
       "mdb_id                                           <object>   \n",
       "5       https://data.ny.gov/download/77gx-ii52/applica...   \n",
       "\n",
       "       bounding_box.minimum_latitude bounding_box.maximum_latitude  \\\n",
       "mdb_id                     <float64>                     <float64>   \n",
       "5                          44.148476                     44.979369   \n",
       "\n",
       "       bounding_box.minimum_longitude bounding_box.maximum_longitude  \\\n",
       "mdb_id                      <float64>                      <float64>   \n",
       "5                           -75.75695                     -74.611761   \n",
       "\n",
       "        bounding_box.extracted_on    status  features redirect.id  \\\n",
       "mdb_id                   <object>  <object>  <object>    <object>   \n",
       "5       2022-03-14T20:02:31+00:00       NaN       NaN         NaN   \n",
       "\n",
       "       redirect.comment  \n",
       "mdb_id         <object>  \n",
       "5                   NaN  \n",
       "\n",
       "[2 rows x 25 columns]"
      ]
     },
     "metadata": {},
     "output_type": "display_data"
    }
   ],
   "source": [
    "all_urls = view(\n",
    "    pd.read_csv('https://bit.ly/catalogs-csv')\n",
    "    .rename(columns={'urls.direct_download': 'url'})\n",
    "    .rename(columns=lambda x: x.replace('location.', ''))\n",
    "    .pipe(lambda df: df[(df['country_code'] == 'US') &\n",
    "                        (df['url'].str.endswith('.zip')) &\n",
    "                        (~df['status'].isin(['inactive', 'deprecated']))])\n",
    "    .set_index('mdb_source_id').rename_axis('mdb_id'))"
   ]
  },
  {
   "cell_type": "markdown",
   "metadata": {},
   "source": [
    "## Bounds-based filter\n",
    "Only include the transit feeds lying within the bounding boxes of the target cities (50 largest) to improve routing performance."
   ]
  },
  {
   "cell_type": "code",
   "execution_count": 3,
   "metadata": {},
   "outputs": [
    {
     "name": "stdout",
     "output_type": "stream",
     "text": [
      "50 rows x 2 cols; Memory: 0.0 MiB; <Geographic 2D CRS: EPSG:4326>\n"
     ]
    },
    {
     "data": {
      "text/html": [
       "<div>\n",
       "<style scoped>\n",
       "    .dataframe tbody tr th:only-of-type {\n",
       "        vertical-align: middle;\n",
       "    }\n",
       "\n",
       "    .dataframe tbody tr th {\n",
       "        vertical-align: top;\n",
       "    }\n",
       "\n",
       "    .dataframe thead th {\n",
       "        text-align: right;\n",
       "    }\n",
       "</style>\n",
       "<table border=\"1\" class=\"dataframe\">\n",
       "  <thead>\n",
       "    <tr style=\"text-align: right;\">\n",
       "      <th></th>\n",
       "      <th>city</th>\n",
       "      <th>geometry</th>\n",
       "    </tr>\n",
       "  </thead>\n",
       "  <tbody>\n",
       "    <tr>\n",
       "      <th></th>\n",
       "      <td>&lt;category&gt;</td>\n",
       "      <td>&lt;geometry&gt;</td>\n",
       "    </tr>\n",
       "    <tr>\n",
       "      <th>0</th>\n",
       "      <td>Atlanta</td>\n",
       "      <td>POLYGON ((-84.745213 33.469068, -84.745213 33....</td>\n",
       "    </tr>\n",
       "  </tbody>\n",
       "</table>\n",
       "</div>"
      ],
      "text/plain": [
       "         city                                           geometry\n",
       "   <category>                                         <geometry>\n",
       "0     Atlanta  POLYGON ((-84.745213 33.469068, -84.745213 33...."
      ]
     },
     "metadata": {},
     "output_type": "display_data"
    }
   ],
   "source": [
    "# tracts = gpd.read_parquet('data/zones.parquet', filters=[\n",
    "#     ('level', '==', 'Tract')], columns=['city', 'geometry'])\n",
    "# tracts['geometry'] = tracts.bounds.apply(lambda x: box(*x), axis=1)\n",
    "# city_bounds = view(tracts.dissolve('city').reset_index())\n",
    "# city_bounds.to_parquet('data/city_bounds.parquet') # 5s\n",
    "city_bounds = view(gpd.read_parquet('data/city_bounds.parquet'))"
   ]
  },
  {
   "cell_type": "code",
   "execution_count": 4,
   "metadata": {},
   "outputs": [
    {
     "name": "stdout",
     "output_type": "stream",
     "text": [
      "363 rows x 8 cols; Memory: 0.1 MiB; <Geographic 2D CRS: EPSG:4326>\n"
     ]
    },
    {
     "data": {
      "text/html": [
       "<div>\n",
       "<style scoped>\n",
       "    .dataframe tbody tr th:only-of-type {\n",
       "        vertical-align: middle;\n",
       "    }\n",
       "\n",
       "    .dataframe tbody tr th {\n",
       "        vertical-align: top;\n",
       "    }\n",
       "\n",
       "    .dataframe thead th {\n",
       "        text-align: right;\n",
       "    }\n",
       "</style>\n",
       "<table border=\"1\" class=\"dataframe\">\n",
       "  <thead>\n",
       "    <tr style=\"text-align: right;\">\n",
       "      <th></th>\n",
       "      <th>mdb_id</th>\n",
       "      <th>minx</th>\n",
       "      <th>miny</th>\n",
       "      <th>maxx</th>\n",
       "      <th>maxy</th>\n",
       "      <th>geometry</th>\n",
       "      <th>city</th>\n",
       "      <th>url</th>\n",
       "    </tr>\n",
       "  </thead>\n",
       "  <tbody>\n",
       "    <tr>\n",
       "      <th></th>\n",
       "      <td>&lt;int64&gt;</td>\n",
       "      <td>&lt;float64&gt;</td>\n",
       "      <td>&lt;float64&gt;</td>\n",
       "      <td>&lt;float64&gt;</td>\n",
       "      <td>&lt;float64&gt;</td>\n",
       "      <td>&lt;geometry&gt;</td>\n",
       "      <td>&lt;object&gt;</td>\n",
       "      <td>&lt;object&gt;</td>\n",
       "    </tr>\n",
       "    <tr>\n",
       "      <th>0</th>\n",
       "      <td>13</td>\n",
       "      <td>-117.277924</td>\n",
       "      <td>32.542819</td>\n",
       "      <td>-116.184458</td>\n",
       "      <td>33.256887</td>\n",
       "      <td>POLYGON ((-116.184458 32.542819, -116.184458 3...</td>\n",
       "      <td>[San Diego]</td>\n",
       "      <td>https://www.sdmts.com/google_transit_files/goo...</td>\n",
       "    </tr>\n",
       "  </tbody>\n",
       "</table>\n",
       "</div>"
      ],
      "text/plain": [
       "    mdb_id        minx       miny        maxx       maxy  \\\n",
       "   <int64>   <float64>  <float64>   <float64>  <float64>   \n",
       "0       13 -117.277924  32.542819 -116.184458  33.256887   \n",
       "\n",
       "                                            geometry         city  \\\n",
       "                                          <geometry>     <object>   \n",
       "0  POLYGON ((-116.184458 32.542819, -116.184458 3...  [San Diego]   \n",
       "\n",
       "                                                 url  \n",
       "                                            <object>  \n",
       "0  https://www.sdmts.com/google_transit_files/goo...  "
      ]
     },
     "metadata": {},
     "output_type": "display_data"
    }
   ],
   "source": [
    "bounds = all_urls[['bounding_box.' + x for x in [\n",
    "    'minimum_longitude', 'minimum_latitude',\n",
    "    'maximum_longitude', 'maximum_latitude']]].dropna()\n",
    "bounds.columns = ['minx', 'miny', 'maxx', 'maxy']\n",
    "# remove large intercity GTFS feeds which span very large\n",
    "# areas (such as Amtrak), maybe like 3° E-W and 3° N-S\n",
    "bounds = bounds[(bounds.maxx - bounds.minx <= 3) &\n",
    "                (bounds.maxy - bounds.miny <= 3)]\n",
    "bounds['geometry'] = [box(*r) for _, r in bounds.iterrows()]\n",
    "bounds = Gdf(bounds, crs=CRS_DEG, index=bounds.index)\n",
    "bounds = bounds.sjoin(city_bounds).drop(columns='index_right')\n",
    "bounds = bounds.drop(columns='city').merge(\n",
    "    bounds.groupby('mdb_id').agg(D(city=list)), on='mdb_id')\n",
    "feeds = view(bounds.merge(all_urls[['url']], on='mdb_id').reset_index())\n",
    "feeds.to_parquet('data/gtfs/gtfs_feeds.parquet')"
   ]
  },
  {
   "cell_type": "markdown",
   "metadata": {},
   "source": [
    "## Download data"
   ]
  },
  {
   "cell_type": "markdown",
   "metadata": {},
   "source": [
    "Problems with:\n",
    "- 50 (San Francisco): Max retries\n",
    "- 521 (New York): Max retries"
   ]
  },
  {
   "cell_type": "code",
   "execution_count": 5,
   "metadata": {},
   "outputs": [],
   "source": [
    "# pbar = tqdm([(r.mdb_id, r.city, r.url) for _, r in urls.iterrows()\n",
    "#              if not Path(f'data/gtfs/all/{r.mdb_id}.zip').exists()])\n",
    "# for mdb_id, cities, url in pbar:\n",
    "#     pbar.set_description(f'{mdb_id} ({cities})')\n",
    "#     try:\n",
    "#         fpath = Path(f'data/gtfs/all/{mdb_id}.zip')\n",
    "#         if fpath.exists():\n",
    "#             continue\n",
    "#         req = requests.get(url, stream=True)\n",
    "#         with open(fpath, 'wb') as f:\n",
    "#             for chunk in req.iter_content(chunk_size=128):\n",
    "#                 f.write(chunk)\n",
    "#     except Exception as e:\n",
    "#         print('ERROR:', mdb_id, cities, e)"
   ]
  },
  {
   "cell_type": "code",
   "execution_count": null,
   "metadata": {},
   "outputs": [],
   "source": []
  }
 ],
 "metadata": {
  "kernelspec": {
   "display_name": "rv3.12",
   "language": "python",
   "name": "python3"
  },
  "language_info": {
   "codemirror_mode": {
    "name": "ipython",
    "version": 3
   },
   "file_extension": ".py",
   "mimetype": "text/x-python",
   "name": "python",
   "nbconvert_exporter": "python",
   "pygments_lexer": "ipython3",
   "version": "3.12.0"
  }
 },
 "nbformat": 4,
 "nbformat_minor": 2
}
