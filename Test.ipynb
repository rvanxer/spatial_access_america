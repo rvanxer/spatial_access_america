{
 "cells": [
  {
   "cell_type": "code",
   "execution_count": 1,
   "metadata": {},
   "outputs": [],
   "source": [
    "from utils import *"
   ]
  },
  {
   "cell_type": "markdown",
   "metadata": {},
   "source": [
    "- Index (get item):\n",
    "    - Arrays\n",
    "    - Dicts\n",
    "    - Named dicts\n",
    "    - Structs\n",
    "    - Struct methods\n",
    "    - Package attributes"
   ]
  },
  {
   "cell_type": "code",
   "execution_count": null,
   "metadata": {},
   "outputs": [],
   "source": [
    "# create array\n",
    "array1 = ['John', 'Amy', 'Betty', 25]\n",
    "array2 = Int[1, 2, 3, 6, 10]\n",
    "\n",
    "# index array\n",
    "array1[2] # >> 'Amy' # 1-based indexing\n",
    "getitem(array2, 4) # >> 6"
   ]
  },
  {
   "cell_type": "code",
   "execution_count": null,
   "metadata": {},
   "outputs": [],
   "source": [
    "# create dict\n",
    "dict1 = { 'name': 'John Doe', 'age': 25, 30: True }"
   ]
  },
  {
   "cell_type": "code",
   "execution_count": null,
   "metadata": {},
   "outputs": [],
   "source": [
    "# # Python-style dictionaries using `:`\n",
    "# myDict = {\n",
    "#     'name': 'John Doe',\n",
    "#     'age': 25,\n",
    "#     30: True,\n",
    "# }\n",
    "# # access only using square brackets\n",
    "# myDict['age'] # >> 25\n",
    "\n",
    "# # JavaScript-style named dictionaries using `=`\n",
    "# myObj = {\n",
    "#     name = 'John Doe',\n",
    "#     age = 25,\n",
    "# }\n",
    "# # access using brackets or name\n",
    "# myObj['age'] # >> 25\n",
    "# myObj.age # >> 25\n",
    "\n",
    "# # structs\n",
    "# Person = Struct(\n",
    "#     name::String,\n",
    "#     age::Int,\n",
    "#     job::String = null\n",
    "# )\n",
    "# new(p::Person) = {\n",
    "# }\n",
    "# greet(p::Person) = print(f'Hello, {p.name}! How are you?')\n",
    "\n",
    "# john = Person('John Doe', 25)\n",
    "# greet(john) # >> 'Hello, John Doe! How are you?'\n",
    "# john..greet() # >> 'Hello, John Doe! How are you?'"
   ]
  },
  {
   "cell_type": "markdown",
   "metadata": {},
   "source": [
    "# GB Transit\n",
    "From the paper: [Torres et al. (2024). Public transport accessibility indicators to urban and regional services in Great Britain. _Scientific Data_](https://www.nature.com/articles/s41597-023-02890-w)."
   ]
  },
  {
   "cell_type": "markdown",
   "metadata": {},
   "source": [
    "## Zones"
   ]
  },
  {
   "cell_type": "code",
   "execution_count": null,
   "metadata": {},
   "outputs": [
    {
     "name": "stdout",
     "output_type": "stream",
     "text": [
      "32,844 rows x 3 cols; Memory: 4.1 MiB; <Geographic 2D CRS: EPSG:4326>\n"
     ]
    },
    {
     "data": {
      "text/html": [
       "<div>\n",
       "<style scoped>\n",
       "    .dataframe tbody tr th:only-of-type {\n",
       "        vertical-align: middle;\n",
       "    }\n",
       "\n",
       "    .dataframe tbody tr th {\n",
       "        vertical-align: top;\n",
       "    }\n",
       "\n",
       "    .dataframe thead th {\n",
       "        text-align: right;\n",
       "    }\n",
       "</style>\n",
       "<table border=\"1\" class=\"dataframe\">\n",
       "  <thead>\n",
       "    <tr style=\"text-align: right;\">\n",
       "      <th></th>\n",
       "      <th>code</th>\n",
       "      <th>name</th>\n",
       "      <th>geometry</th>\n",
       "    </tr>\n",
       "  </thead>\n",
       "  <tbody>\n",
       "    <tr>\n",
       "      <th></th>\n",
       "      <td>&lt;object&gt;</td>\n",
       "      <td>&lt;object&gt;</td>\n",
       "      <td>&lt;geometry&gt;</td>\n",
       "    </tr>\n",
       "    <tr>\n",
       "      <th>0</th>\n",
       "      <td>E01000037</td>\n",
       "      <td>Barking and Dagenham 003B</td>\n",
       "      <td>POLYGON ((0.18508 51.564799, 0.184759 51.56454...</td>\n",
       "    </tr>\n",
       "  </tbody>\n",
       "</table>\n",
       "</div>"
      ],
      "text/plain": [
       "        code                       name  \\\n",
       "    <object>                   <object>   \n",
       "0  E01000037  Barking and Dagenham 003B   \n",
       "\n",
       "                                            geometry  \n",
       "                                          <geometry>  \n",
       "0  POLYGON ((0.18508 51.564799, 0.184759 51.56454...  "
      ]
     },
     "metadata": {},
     "output_type": "display_data"
    }
   ],
   "source": [
    "# df = gpd.read_file('https://borders.ukdataservice.ac.uk/ukborders/'\n",
    "#                    'easy_download/prebuilt/shape/England_lsoa_2011.zip')\n",
    "# df = df.drop(columns='label').to_crs(CRS_DEG)\n",
    "# df.to_parquet('data/gb_access/zones_2011.parquet', compression='gzip') # 1m17s\n",
    "gb = gpd.read_parquet('data/gb_access/zones_2011.parquet').disp() # 5s"
   ]
  },
  {
   "cell_type": "code",
   "execution_count": null,
   "metadata": {},
   "outputs": [],
   "source": [
    "# london = gb.clip([-1, 51.25, 0.5, 51.75])\n",
    "# london.explore()"
   ]
  },
  {
   "cell_type": "code",
   "execution_count": null,
   "metadata": {},
   "outputs": [
    {
     "name": "stdout",
     "output_type": "stream",
     "text": [
      "32,844 rows x 3 cols; Memory: 2.3 MiB\n"
     ]
    },
    {
     "data": {
      "text/html": [
       "<div>\n",
       "<style scoped>\n",
       "    .dataframe tbody tr th:only-of-type {\n",
       "        vertical-align: middle;\n",
       "    }\n",
       "\n",
       "    .dataframe tbody tr th {\n",
       "        vertical-align: top;\n",
       "    }\n",
       "\n",
       "    .dataframe thead th {\n",
       "        text-align: right;\n",
       "    }\n",
       "</style>\n",
       "<table border=\"1\" class=\"dataframe\">\n",
       "  <thead>\n",
       "    <tr style=\"text-align: right;\">\n",
       "      <th></th>\n",
       "      <th>code</th>\n",
       "      <th>x</th>\n",
       "      <th>y</th>\n",
       "    </tr>\n",
       "  </thead>\n",
       "  <tbody>\n",
       "    <tr>\n",
       "      <th></th>\n",
       "      <td>&lt;object&gt;</td>\n",
       "      <td>&lt;float64&gt;</td>\n",
       "      <td>&lt;float64&gt;</td>\n",
       "    </tr>\n",
       "    <tr>\n",
       "      <th>0</th>\n",
       "      <td>E01000037</td>\n",
       "      <td>0.179507</td>\n",
       "      <td>51.56252</td>\n",
       "    </tr>\n",
       "  </tbody>\n",
       "</table>\n",
       "</div>"
      ],
      "text/plain": [
       "        code          x          y\n",
       "    <object>  <float64>  <float64>\n",
       "0  E01000037   0.179507   51.56252"
      ]
     },
     "metadata": {},
     "output_type": "display_data"
    }
   ],
   "source": [
    "df = (gb.set_index('code').to_crs(CRS_M).centroid.to_crs(CRS_DEG)\n",
    "      .get_coordinates().reset_index()).disp()"
   ]
  },
  {
   "cell_type": "markdown",
   "metadata": {},
   "source": [
    "## Access & travel time data\n",
    "Available at https://data.ubdc.ac.uk/datasets/public-transport-accessibility-indicators-2022"
   ]
  },
  {
   "cell_type": "code",
   "execution_count": null,
   "metadata": {},
   "outputs": [],
   "source": [
    "# %%bash\n",
    "# cd data/gb_access\n",
    "# fname='open-release-ptai-2021_28062022.zip'\n",
    "# wget https://data.ubdc.ac.uk/dataset/a2890594-c868-48ee-939a-af3d97303ab5/resource/fdc74d59-97d0-4f3c-b1e9-93afd98dc825/download/$fname\n",
    "# unzip $fname\n",
    "# rm $fname\n",
    "# mv pt_accessibility_gb/output/* .\n",
    "# rm -r pt_accessibility_gb # 25s"
   ]
  },
  {
   "cell_type": "code",
   "execution_count": null,
   "metadata": {},
   "outputs": [
    {
     "name": "stdout",
     "output_type": "stream",
     "text": [
      "95,661,348 rows x 5 cols; Memory: 1283.8 MiB\n"
     ]
    },
    {
     "data": {
      "text/html": [
       "<div>\n",
       "<style scoped>\n",
       "    .dataframe tbody tr th:only-of-type {\n",
       "        vertical-align: middle;\n",
       "    }\n",
       "\n",
       "    .dataframe tbody tr th {\n",
       "        vertical-align: top;\n",
       "    }\n",
       "\n",
       "    .dataframe thead th {\n",
       "        text-align: right;\n",
       "    }\n",
       "</style>\n",
       "<table border=\"1\" class=\"dataframe\">\n",
       "  <thead>\n",
       "    <tr style=\"text-align: right;\">\n",
       "      <th></th>\n",
       "      <th>fromId</th>\n",
       "      <th>toId</th>\n",
       "      <th>tt_25</th>\n",
       "      <th>tt_50</th>\n",
       "      <th>tt_75</th>\n",
       "    </tr>\n",
       "  </thead>\n",
       "  <tbody>\n",
       "    <tr>\n",
       "      <th></th>\n",
       "      <td>&lt;category&gt;</td>\n",
       "      <td>&lt;category&gt;</td>\n",
       "      <td>&lt;float16&gt;</td>\n",
       "      <td>&lt;float16&gt;</td>\n",
       "      <td>&lt;float16&gt;</td>\n",
       "    </tr>\n",
       "    <tr>\n",
       "      <th>0</th>\n",
       "      <td>S01006506</td>\n",
       "      <td>S01006506</td>\n",
       "      <td>0.0</td>\n",
       "      <td>0.0</td>\n",
       "      <td>0.0</td>\n",
       "    </tr>\n",
       "  </tbody>\n",
       "</table>\n",
       "</div>"
      ],
      "text/plain": [
       "       fromId        toId      tt_25      tt_50      tt_75\n",
       "   <category>  <category>  <float16>  <float16>  <float16>\n",
       "0   S01006506   S01006506        0.0        0.0        0.0"
      ]
     },
     "metadata": {},
     "output_type": "display_data"
    }
   ],
   "source": [
    "# ttm = pd.read_csv('data/gb_access/ttm/ttm_pt_20211122.csv')\n",
    "# ttm.rename(columns=lambda x: x.replace('travel_time_p0', 'tt_'), inplace=True)\n",
    "# ttm = ttm.astype(D(fromId=CAT, toId=CAT, tt_25=F16, tt_50=F16, tt_75=F16))\n",
    "# ttm.to_parquet('data/gb_access/ttm/ttm.parquet', compression='gzip') # 2m35s\n",
    "ttm = pd.read_parquet('data/gb_access/ttm/ttm.parquet').disp()"
   ]
  },
  {
   "cell_type": "markdown",
   "metadata": {},
   "source": [
    "### Runtimes\n",
    "| City              | Transit (MBP) | Walk (MBP)    | Bike (U5)     | Drive (U5)    |\n",
    "| -                 | -:            | -:            | -:            | -:            |\n",
    "| Atlanta           | 4:06          | 3:51          | 28:53         | ?             |\n",
    "| Austin            | ?             | 1:38          | ?             | 1:21:13       |\n",
    "| Baltimore         | ?             | 2:41          | ?             | 2:41:37       |\n",
    "| Boston            |               | 5:48          | ?             | 9:23:34       |\n",
    "| Bridgeport        |               | 0:41          | ?             | 0:34:45       |\n",
    "| Buffalo           |               | 0:47          | ?             | 0:21:19       |\n",
    "| Charlotte         |               | 1:14          | ?             | 1:53:17       |\n",
    "| Chicago           |               | 13:14         | ?             |               |\n",
    "| Cincinnati        |               | 0:56          | ?             | ?             |\n",
    "| Cleveland         |               | 1:19          | ?             | 2:01:55       |\n",
    "| Columbus          |               | 1:05          | ?             | ?             |\n",
    "| Dallas            |               | 4:21          | ?             |               |\n",
    "| Denver            |               | 3:47          | ?             | 5:08:26             |\n",
    "| Detroit           |               | 3:47          | ?             |               |\n",
    "| Hartford          |               | 0:45          | ?             | 0:55:22       |\n",
    "| Houston           |               | 3:38          | ?             |               |\n",
    "| Indianapolis      |               | 1:25          | 15:20         | ?             |\n",
    "| Jacksonville      |               | 0:38          | 5:48          | 0:47:37       |\n",
    "| Kansas City       |               | 1:39          | ?             | 2:44:32       |\n",
    "| Las Vegas         |               | 1:21          | ?             | 1:17:21       |\n",
    "| Los Angeles       | 19:08         | 18:06         | 2:22:16       | ?             |\n",
    "| Louisville        |               | 0:35          | ?             | 0:01:28       |\n",
    "| Memphis           |               | 0:36          | ?             | 0:36:03       |\n",
    "| Miami             | 5:30          | 7:12          | 58:38         | ?             |\n",
    "| Milwaukee         |               | 2:35          | ?             | 1:36:24       |\n",
    "| Minneapolis       |               | 3:22          | ?             | 6:14:31       |\n",
    "| Nashville         | 0:44          | 0:42          | 4:34          | ?             |\n",
    "| New York          |               | 49:49         | ?             |               |\n",
    "| Oklahoma City     |               | 0:40          | ?             | 0:47:38       |\n",
    "| Orlando           | 1:00          | 0:54          | 8:17          | ?             |\n",
    "| Philadelphia      |               | 5:25          | ?             |               |\n",
    "| Phoenix           | 5:43          | 4:00          | 46:49         | ?             |\n",
    "| Pittsburgh        |               | 1:13          | ?             | 2:53:15       |\n",
    "| Portland          | 2:42          | 2:02          | 20:39         | ?             |\n",
    "| Providence        |               | 0:54          | ?             | 1:05:54       |\n",
    "| Raleigh           | 1:02          | 0:54          | 6:56          | ?             |\n",
    "| Richmond          |               | 0:46          | ?             | 0:45:33       |\n",
    "| Riverside         | 1:33          | 1:33          | 8:37          | ?             |\n",
    "| Sacramento        | 1:24          | 1:15          | 12:10         | ?             |\n",
    "| Salt Lake City    | 1:12          | 1:02          | 13:09         | ?             |\n",
    "| San Antonio       | 1:15          | 0:50          | 6:40          | ?             |\n",
    "| San Diego         | 2:15          | 1:53          | 14:45         | ?             |\n",
    "| San Francisco     |               | 3:37          | ?             | 5:09:55       |\n",
    "| San Jose          | 2:25          | 2:11          | 25:04         | ?             |\n",
    "| Seattle           | 11:11         | 4:22          | 47:03         | ?             |\n",
    "| St. Louis         |               | 1:21          | ?             | 3:20:40       |\n",
    "| Tampa             |               | N/A           | 16:41         | 2:44:14       |\n",
    "| Tucson            | 1:01          | 0:54          | 9:11          | ?             |\n",
    "| Virginia Beach    |               | 0:49          | 5:23          | 0:53:29       |\n",
    "| Washington        | 8:18          | 7:06          | 1:10:46       | ?             |\n",
    "| **Total**         | **2:18:23**   | **3:01:13**   | **9:27:39**   |               |"
   ]
  },
  {
   "cell_type": "code",
   "execution_count": 2,
   "metadata": {},
   "outputs": [
    {
     "name": "stdout",
     "output_type": "stream",
     "text": [
      "390 rows x 2 cols; Memory: 0.0 MiB; <Geographic 2D CRS: EPSG:4326>\n"
     ]
    },
    {
     "data": {
      "text/html": [
       "<div>\n",
       "<style scoped>\n",
       "    .dataframe tbody tr th:only-of-type {\n",
       "        vertical-align: middle;\n",
       "    }\n",
       "\n",
       "    .dataframe tbody tr th {\n",
       "        vertical-align: top;\n",
       "    }\n",
       "\n",
       "    .dataframe thead th {\n",
       "        text-align: right;\n",
       "    }\n",
       "</style>\n",
       "<table border=\"1\" class=\"dataframe\">\n",
       "  <thead>\n",
       "    <tr style=\"text-align: right;\">\n",
       "      <th></th>\n",
       "      <th>geoid</th>\n",
       "      <th>geometry</th>\n",
       "    </tr>\n",
       "  </thead>\n",
       "  <tbody>\n",
       "    <tr>\n",
       "      <th></th>\n",
       "      <td>&lt;object&gt;</td>\n",
       "      <td>&lt;geometry&gt;</td>\n",
       "    </tr>\n",
       "    <tr>\n",
       "      <th>0</th>\n",
       "      <td>18063210300</td>\n",
       "      <td>POLYGON ((-86.506028 39.922912, -86.504141 39....</td>\n",
       "    </tr>\n",
       "  </tbody>\n",
       "</table>\n",
       "</div>"
      ],
      "text/plain": [
       "         geoid                                           geometry\n",
       "      <object>                                         <geometry>\n",
       "0  18063210300  POLYGON ((-86.506028 39.922912, -86.504141 39...."
      ]
     },
     "metadata": {},
     "output_type": "display_data"
    }
   ],
   "source": [
    "zones = gpd.read_parquet('data/zones.parquet')\n",
    "zones = filt(zones, level='Tract', city='Indianapolis')[['geoid', 'geometry']].disp()"
   ]
  },
  {
   "cell_type": "code",
   "execution_count": 3,
   "metadata": {},
   "outputs": [
    {
     "name": "stdout",
     "output_type": "stream",
     "text": [
      "1,693 rows x 4 cols; Memory: 0.1 MiB\n"
     ]
    },
    {
     "data": {
      "text/html": [
       "<div>\n",
       "<style scoped>\n",
       "    .dataframe tbody tr th:only-of-type {\n",
       "        vertical-align: middle;\n",
       "    }\n",
       "\n",
       "    .dataframe tbody tr th {\n",
       "        vertical-align: top;\n",
       "    }\n",
       "\n",
       "    .dataframe thead th {\n",
       "        text-align: right;\n",
       "    }\n",
       "</style>\n",
       "<table border=\"1\" class=\"dataframe\">\n",
       "  <thead>\n",
       "    <tr style=\"text-align: right;\">\n",
       "      <th></th>\n",
       "      <th>geoid</th>\n",
       "      <th>population</th>\n",
       "      <th>popu_density</th>\n",
       "      <th>median_income</th>\n",
       "    </tr>\n",
       "  </thead>\n",
       "  <tbody>\n",
       "    <tr>\n",
       "      <th></th>\n",
       "      <td>&lt;object&gt;</td>\n",
       "      <td>&lt;float32&gt;</td>\n",
       "      <td>&lt;float32&gt;</td>\n",
       "      <td>&lt;float32&gt;</td>\n",
       "    </tr>\n",
       "    <tr>\n",
       "      <th>0</th>\n",
       "      <td>18001030100</td>\n",
       "      <td>4826.0</td>\n",
       "      <td>62.160343</td>\n",
       "      <td>0.069376</td>\n",
       "    </tr>\n",
       "  </tbody>\n",
       "</table>\n",
       "</div>"
      ],
      "text/plain": [
       "         geoid population popu_density median_income\n",
       "      <object>  <float32>    <float32>     <float32>\n",
       "0  18001030100     4826.0    62.160343      0.069376"
      ]
     },
     "metadata": {},
     "output_type": "display_data"
    }
   ],
   "source": [
    "ses = (filt(pd.read_parquet('../equity_atlas/data/ses/ses.parquet'), level='Tract')\n",
    "       [['geoid', 'popu', 'pop_density', 'm_income']])\n",
    "ses.columns = ['geoid', 'population', 'popu_density', 'median_income']\n",
    "ses.disp();"
   ]
  },
  {
   "cell_type": "code",
   "execution_count": 4,
   "metadata": {},
   "outputs": [
    {
     "name": "stdout",
     "output_type": "stream",
     "text": [
      "75,636 rows x 3 cols; Memory: 25.9 MiB\n"
     ]
    },
    {
     "data": {
      "text/html": [
       "<div>\n",
       "<style scoped>\n",
       "    .dataframe tbody tr th:only-of-type {\n",
       "        vertical-align: middle;\n",
       "    }\n",
       "\n",
       "    .dataframe tbody tr th {\n",
       "        vertical-align: top;\n",
       "    }\n",
       "\n",
       "    .dataframe thead th {\n",
       "        text-align: right;\n",
       "    }\n",
       "</style>\n",
       "<table border=\"1\" class=\"dataframe\">\n",
       "  <thead>\n",
       "    <tr style=\"text-align: right;\">\n",
       "      <th></th>\n",
       "      <th>geoid</th>\n",
       "      <th>total_jobs</th>\n",
       "      <th>total_pois</th>\n",
       "    </tr>\n",
       "  </thead>\n",
       "  <tbody>\n",
       "    <tr>\n",
       "      <th></th>\n",
       "      <td>&lt;category&gt;</td>\n",
       "      <td>&lt;int32&gt;</td>\n",
       "      <td>&lt;int32&gt;</td>\n",
       "    </tr>\n",
       "    <tr>\n",
       "      <th>0</th>\n",
       "      <td>04001942600</td>\n",
       "      <td>4</td>\n",
       "      <td>0</td>\n",
       "    </tr>\n",
       "  </tbody>\n",
       "</table>\n",
       "</div>"
      ],
      "text/plain": [
       "         geoid total_jobs total_pois\n",
       "    <category>    <int32>    <int32>\n",
       "0  04001942600          4          0"
      ]
     },
     "metadata": {},
     "output_type": "display_data"
    }
   ],
   "source": [
    "opport = filt(pd.read_parquet('data/opportunities.parquet'), level='Tract')\n",
    "opport = (opport[opport.kind.isin(['Jobs: All', 'POIs: All'])]\n",
    "          .pivot_table('opport', 'geoid', 'kind', observed=1)\n",
    "          .fillna(0).astype(I32).reset_index().rename_axis(None, axis=1))\n",
    "opport.columns = ['geoid', 'total_jobs', 'total_pois']\n",
    "opport.disp();"
   ]
  },
  {
   "cell_type": "code",
   "execution_count": 5,
   "metadata": {},
   "outputs": [],
   "source": [
    "# access = filt(pd.read_parquet('data/access_long/indianapolis.parquet'),\n",
    "#               measure='Contour', mode='Drive', thresh='30', level='BG')\n",
    "# access = (access[access.kind.isin(['Jobs: All', 'POIs: Total'])]\n",
    "#           .pivot_table('access', 'geoid', 'kind', observed=1)\n",
    "#           .fillna(0).astype(I32).reset_index().rename_axis(None, axis=1))\n",
    "# access.columns = ['geoid', 'access_drive_jobs', 'access_drive_pois']\n",
    "# access.disp();"
   ]
  },
  {
   "cell_type": "code",
   "execution_count": 5,
   "metadata": {},
   "outputs": [
    {
     "name": "stdout",
     "output_type": "stream",
     "text": [
      "1,693 rows x 5 cols; Memory: 0.7 MiB\n"
     ]
    },
    {
     "data": {
      "text/html": [
       "<div>\n",
       "<style scoped>\n",
       "    .dataframe tbody tr th:only-of-type {\n",
       "        vertical-align: middle;\n",
       "    }\n",
       "\n",
       "    .dataframe tbody tr th {\n",
       "        vertical-align: top;\n",
       "    }\n",
       "\n",
       "    .dataframe thead th {\n",
       "        text-align: right;\n",
       "    }\n",
       "</style>\n",
       "<table border=\"1\" class=\"dataframe\">\n",
       "  <thead>\n",
       "    <tr style=\"text-align: right;\">\n",
       "      <th></th>\n",
       "      <th>geoid</th>\n",
       "      <th>xs_drive_pois</th>\n",
       "      <th>xs_drive_jobs</th>\n",
       "      <th>xs_transit_pois</th>\n",
       "      <th>xs_transit_jobs</th>\n",
       "    </tr>\n",
       "  </thead>\n",
       "  <tbody>\n",
       "    <tr>\n",
       "      <th></th>\n",
       "      <td>&lt;category&gt;</td>\n",
       "      <td>&lt;float32&gt;</td>\n",
       "      <td>&lt;float32&gt;</td>\n",
       "      <td>&lt;float32&gt;</td>\n",
       "      <td>&lt;float32&gt;</td>\n",
       "    </tr>\n",
       "    <tr>\n",
       "      <th>0</th>\n",
       "      <td>18001030100</td>\n",
       "      <td>3543.0</td>\n",
       "      <td>93720.0</td>\n",
       "      <td>NaN</td>\n",
       "      <td>NaN</td>\n",
       "    </tr>\n",
       "  </tbody>\n",
       "</table>\n",
       "</div>"
      ],
      "text/plain": [
       "         geoid xs_drive_pois xs_drive_jobs xs_transit_pois xs_transit_jobs\n",
       "    <category>     <float32>     <float32>       <float32>       <float32>\n",
       "0  18001030100        3543.0       93720.0             NaN             NaN"
      ]
     },
     "metadata": {},
     "output_type": "display_data"
    }
   ],
   "source": [
    "xs = pd.read_parquet('../equity_atlas/data/_old2/access/access_all.parquet')\n",
    "xs = filt(xs, measure='Contour', thresh='30', scale='Tract')\n",
    "xs = xs[xs.kind.isin(['Total jobs', 'All POIs'])]\n",
    "xs = xs[xs['mode'].isin(['Drive', 'Transit'])]\n",
    "xs = xs.pivot_table('value', 'geoid', ['mode', 'kind'], observed=1)\n",
    "xs.columns = ['xs_drive_pois', 'xs_drive_jobs', 'xs_transit_pois', 'xs_transit_jobs']\n",
    "xs = xs.reset_index().disp()"
   ]
  },
  {
   "cell_type": "code",
   "execution_count": 7,
   "metadata": {},
   "outputs": [
    {
     "name": "stdout",
     "output_type": "stream",
     "text": [
      "253 rows x 11 cols; Memory: 0.0 MiB; <Geographic 2D CRS: EPSG:4326>\n"
     ]
    },
    {
     "data": {
      "text/html": [
       "<div>\n",
       "<style scoped>\n",
       "    .dataframe tbody tr th:only-of-type {\n",
       "        vertical-align: middle;\n",
       "    }\n",
       "\n",
       "    .dataframe tbody tr th {\n",
       "        vertical-align: top;\n",
       "    }\n",
       "\n",
       "    .dataframe thead th {\n",
       "        text-align: right;\n",
       "    }\n",
       "</style>\n",
       "<table border=\"1\" class=\"dataframe\">\n",
       "  <thead>\n",
       "    <tr style=\"text-align: right;\">\n",
       "      <th></th>\n",
       "      <th>geoid</th>\n",
       "      <th>geometry</th>\n",
       "      <th>population</th>\n",
       "      <th>popu_density</th>\n",
       "      <th>median_income</th>\n",
       "      <th>total_jobs</th>\n",
       "      <th>total_pois</th>\n",
       "      <th>xs_drive_pois</th>\n",
       "      <th>xs_drive_jobs</th>\n",
       "      <th>xs_transit_pois</th>\n",
       "      <th>xs_transit_jobs</th>\n",
       "    </tr>\n",
       "  </thead>\n",
       "  <tbody>\n",
       "    <tr>\n",
       "      <th></th>\n",
       "      <td>&lt;object&gt;</td>\n",
       "      <td>&lt;geometry&gt;</td>\n",
       "      <td>&lt;float32&gt;</td>\n",
       "      <td>&lt;float32&gt;</td>\n",
       "      <td>&lt;float32&gt;</td>\n",
       "      <td>&lt;int32&gt;</td>\n",
       "      <td>&lt;int32&gt;</td>\n",
       "      <td>&lt;float32&gt;</td>\n",
       "      <td>&lt;float32&gt;</td>\n",
       "      <td>&lt;float32&gt;</td>\n",
       "      <td>&lt;float32&gt;</td>\n",
       "    </tr>\n",
       "    <tr>\n",
       "      <th>4</th>\n",
       "      <td>18097342300</td>\n",
       "      <td>POLYGON ((-86.253873 39.721916, -86.253582 39....</td>\n",
       "      <td>6793.0</td>\n",
       "      <td>3272.16333</td>\n",
       "      <td>0.099314</td>\n",
       "      <td>2045</td>\n",
       "      <td>42</td>\n",
       "      <td>22334.0</td>\n",
       "      <td>744810.0</td>\n",
       "      <td>119.0</td>\n",
       "      <td>8731.0</td>\n",
       "    </tr>\n",
       "  </tbody>\n",
       "</table>\n",
       "</div>"
      ],
      "text/plain": [
       "         geoid                                           geometry population  \\\n",
       "      <object>                                         <geometry>  <float32>   \n",
       "4  18097342300  POLYGON ((-86.253873 39.721916, -86.253582 39....     6793.0   \n",
       "\n",
       "  popu_density median_income total_jobs total_pois xs_drive_pois  \\\n",
       "     <float32>     <float32>    <int32>    <int32>     <float32>   \n",
       "4   3272.16333      0.099314       2045         42       22334.0   \n",
       "\n",
       "  xs_drive_jobs xs_transit_pois xs_transit_jobs  \n",
       "      <float32>       <float32>       <float32>  \n",
       "4      744810.0           119.0          8731.0  "
      ]
     },
     "metadata": {},
     "output_type": "display_data"
    }
   ],
   "source": [
    "indy = zones.merge(ses).merge(opport).merge(xs)\n",
    "indy = indy[indy.geoid.str[:5] == '18097'].disp()"
   ]
  },
  {
   "cell_type": "code",
   "execution_count": 8,
   "metadata": {},
   "outputs": [],
   "source": [
    "indy.to_parquet('data/_old/shagun_indy_access_tract.parquet')"
   ]
  },
  {
   "cell_type": "code",
   "execution_count": null,
   "metadata": {},
   "outputs": [],
   "source": []
  }
 ],
 "metadata": {
  "kernelspec": {
   "display_name": "rv3.12",
   "language": "python",
   "name": "python3"
  },
  "language_info": {
   "codemirror_mode": {
    "name": "ipython",
    "version": 3
   },
   "file_extension": ".py",
   "mimetype": "text/x-python",
   "name": "python",
   "nbconvert_exporter": "python",
   "pygments_lexer": "ipython3",
   "version": "3.12.0"
  }
 },
 "nbformat": 4,
 "nbformat_minor": 2
}
