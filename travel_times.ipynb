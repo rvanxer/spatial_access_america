{
 "cells": [
  {
   "cell_type": "markdown",
   "metadata": {},
   "source": [
    "## Imports"
   ]
  },
  {
   "cell_type": "code",
   "execution_count": 1,
   "metadata": {},
   "outputs": [],
   "source": [
    "from scipy.spatial import cKDTree\n",
    "\n",
    "from utils import *"
   ]
  },
  {
   "cell_type": "markdown",
   "metadata": {},
   "source": [
    "## Zone centroids"
   ]
  },
  {
   "cell_type": "code",
   "execution_count": 2,
   "metadata": {},
   "outputs": [
    {
     "name": "stdout",
     "output_type": "stream",
     "text": [
      "143,971 rows x 7 cols; Memory: 29.9 MiB\n"
     ]
    },
    {
     "data": {
      "text/html": [
       "<div>\n",
       "<style scoped>\n",
       "    .dataframe tbody tr th:only-of-type {\n",
       "        vertical-align: middle;\n",
       "    }\n",
       "\n",
       "    .dataframe tbody tr th {\n",
       "        vertical-align: top;\n",
       "    }\n",
       "\n",
       "    .dataframe thead th {\n",
       "        text-align: right;\n",
       "    }\n",
       "</style>\n",
       "<table border=\"1\" class=\"dataframe\">\n",
       "  <thead>\n",
       "    <tr style=\"text-align: right;\">\n",
       "      <th></th>\n",
       "      <th>geoid</th>\n",
       "      <th>level</th>\n",
       "      <th>city</th>\n",
       "      <th>x</th>\n",
       "      <th>y</th>\n",
       "      <th>lon</th>\n",
       "      <th>lat</th>\n",
       "    </tr>\n",
       "  </thead>\n",
       "  <tbody>\n",
       "    <tr>\n",
       "      <th></th>\n",
       "      <td>&lt;object&gt;</td>\n",
       "      <td>&lt;object&gt;</td>\n",
       "      <td>&lt;object&gt;</td>\n",
       "      <td>&lt;float64&gt;</td>\n",
       "      <td>&lt;float64&gt;</td>\n",
       "      <td>&lt;float32&gt;</td>\n",
       "      <td>&lt;float32&gt;</td>\n",
       "    </tr>\n",
       "    <tr>\n",
       "      <th>0</th>\n",
       "      <td>42007</td>\n",
       "      <td>County</td>\n",
       "      <td>Pittsburgh</td>\n",
       "      <td>-8944439.202797</td>\n",
       "      <td>4965621.768359</td>\n",
       "      <td>-80.349266</td>\n",
       "      <td>40.682495</td>\n",
       "    </tr>\n",
       "  </tbody>\n",
       "</table>\n",
       "</div>"
      ],
      "text/plain": [
       "      geoid     level        city               x               y        lon  \\\n",
       "   <object>  <object>    <object>       <float64>       <float64>  <float32>   \n",
       "0     42007    County  Pittsburgh -8944439.202797  4965621.768359 -80.349266   \n",
       "\n",
       "         lat  \n",
       "   <float32>  \n",
       "0  40.682495  "
      ]
     },
     "metadata": {},
     "output_type": "display_data"
    }
   ],
   "source": [
    "pts = (gpd.read_parquet('data/zones.parquet', columns=[\n",
    "    'geoid', 'level', 'city', 'geometry'])\n",
    "       .set_index(['geoid', 'level', 'city']).to_crs(CRS_M)\n",
    "       .centroid.get_coordinates().reset_index())\n",
    "pts = pdf2gdf(pts, 'x', 'y', CRS_M)\n",
    "latlon = (pts.to_crs(CRS_DEG).get_coordinates()\n",
    "          .rename(columns=D(x='lon', y='lat')))\n",
    "pts = (pd.concat([pts.drop(columns='geometry'), latlon], axis=1)\n",
    "       .astype(D(level=str, city=str, lon=F32, lat=F32))).disp() # 8s"
   ]
  },
  {
   "cell_type": "markdown",
   "metadata": {},
   "source": [
    "## Filter OD pairs\n",
    "From all the possible OD pairs for each combination of city, mode, and spatial level, filter the ones which are feasibly reachable within a given time threshold (60 min) using the Haversine distance between the centroids of the OD pairs using the maximum modal speed."
   ]
  },
  {
   "cell_type": "code",
   "execution_count": 3,
   "metadata": {},
   "outputs": [],
   "source": [
    "max_time = 60 * 60 # maximum allowed travel time (seconds)\n",
    "max_speeds = D(Bike=16, Drive=70, Transit=30, Walk=3.1) # in mph"
   ]
  },
  {
   "cell_type": "code",
   "execution_count": 4,
   "metadata": {},
   "outputs": [],
   "source": [
    "# pbar = tqdm(list(it.product(max_speeds, pts.groupby('city'))))\n",
    "# for mode, (city, df) in pbar:\n",
    "#     pbar.set_description(f'{city}: {mode}')\n",
    "#     max_dist = max_speeds[mode] * MPH2MPS * max_time\n",
    "#     odp = []\n",
    "#     for level, df2 in df.groupby('level'):\n",
    "#         df3 = df2.reset_index().rename_axis('id')[['geoid', 'lon', 'lat']]\n",
    "#         src = df3.rename(columns=lambda x: 'src_' + x)\n",
    "#         trg = df3.rename(columns=lambda x: 'trg_' + x)\n",
    "#         tree = cKDTree(df2[['x', 'y']])\n",
    "#         od = tree.query_ball_point(df2[['x', 'y']], max_dist, workers=8)\n",
    "#         od = Pdf(od, columns=['trg']).rename_axis('src').reset_index()\n",
    "#         od = od.explode('trg').query('src != trg').reset_index(drop=1)\n",
    "#         od = od.merge(src, left_on='src', right_index=True)\n",
    "#         od = od.merge(trg, left_on='trg', right_index=True)\n",
    "#         od = od.drop(columns=['src', 'trg'])\n",
    "#         od = od.rename(columns=D(src_geoid='src', trg_geoid='trg'))\n",
    "#         od.insert(0, 'level', level)\n",
    "#         odp.append(od)\n",
    "#     odp = pd.concat(odp).reset_index(drop=1).astype(D(level=CAT))\n",
    "#     outfile = city.lower().replace(' ', '-') + f'_{mode.lower()}.parquet'\n",
    "#     odp.to_parquet(mkdir('data/odp') / outfile, compression='gzip') # 25m19s"
   ]
  },
  {
   "cell_type": "code",
   "execution_count": null,
   "metadata": {},
   "outputs": [],
   "source": []
  },
  {
   "cell_type": "code",
   "execution_count": null,
   "metadata": {},
   "outputs": [],
   "source": []
  }
 ],
 "metadata": {
  "kernelspec": {
   "display_name": "mk11",
   "language": "python",
   "name": "python3"
  },
  "language_info": {
   "codemirror_mode": {
    "name": "ipython",
    "version": 3
   },
   "file_extension": ".py",
   "mimetype": "text/x-python",
   "name": "python",
   "nbconvert_exporter": "python",
   "pygments_lexer": "ipython3",
   "version": "3.11.6"
  }
 },
 "nbformat": 4,
 "nbformat_minor": 2
}
